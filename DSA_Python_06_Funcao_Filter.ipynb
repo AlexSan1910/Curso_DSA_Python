{
  "nbformat": 4,
  "nbformat_minor": 0,
  "metadata": {
    "colab": {
      "provenance": [],
      "authorship_tag": "ABX9TyOfIQfV5g0v1tb+8l3GRfT/",
      "include_colab_link": true
    },
    "kernelspec": {
      "name": "python3",
      "display_name": "Python 3"
    },
    "language_info": {
      "name": "python"
    }
  },
  "cells": [
    {
      "cell_type": "markdown",
      "metadata": {
        "id": "view-in-github",
        "colab_type": "text"
      },
      "source": [
        "<a href=\"https://colab.research.google.com/github/AlexSan1910/Curso_DSA_Python/blob/main/DSA_Python_06_Funcao_Filter.ipynb\" target=\"_parent\"><img src=\"https://colab.research.google.com/assets/colab-badge.svg\" alt=\"Open In Colab\"/></a>"
      ]
    },
    {
      "cell_type": "markdown",
      "source": [
        "# **Função Filter**\n",
        "\n",
        "A função filter() em Python é uma função que filtra elementos de uma estrutura de dados iteravel (como listas, tuplas ou outro objeto iterável) com base em uma determinada condição. A função filter() retorna um objeto filtro, que pode ser convertido em outra estrutura de dados, como uma lista, se necessario.\n"
      ],
      "metadata": {
        "id": "CTLQAEdrsDvd"
      }
    },
    {
      "cell_type": "code",
      "execution_count": null,
      "metadata": {
        "id": "_gRti_Wur8OJ"
      },
      "outputs": [],
      "source": [
        "# Criando função para identificar se é um numero Par\n",
        "\n",
        "def verificaPar(num):\n",
        "  if num % 2 == 0:\n",
        "    return True\n",
        "  else:\n",
        "    return False"
      ]
    },
    {
      "cell_type": "code",
      "source": [
        "# Chamando a função para teste com numero impar\n",
        "\n",
        "verificaPar(35)"
      ],
      "metadata": {
        "colab": {
          "base_uri": "https://localhost:8080/"
        },
        "id": "bYyOxbq9sGXm",
        "outputId": "08dbe922-7c25-4f4f-f212-68d48980cecf"
      },
      "execution_count": null,
      "outputs": [
        {
          "output_type": "execute_result",
          "data": {
            "text/plain": [
              "False"
            ]
          },
          "metadata": {},
          "execution_count": 6
        }
      ]
    },
    {
      "cell_type": "code",
      "source": [
        "# Chamando a função para teste com numero par\n",
        "\n",
        "verificaPar(10)"
      ],
      "metadata": {
        "colab": {
          "base_uri": "https://localhost:8080/"
        },
        "id": "8GrvFYS6s1ON",
        "outputId": "2f1ee05d-843d-4586-824b-94d6c793b03f"
      },
      "execution_count": null,
      "outputs": [
        {
          "output_type": "execute_result",
          "data": {
            "text/plain": [
              "True"
            ]
          },
          "metadata": {},
          "execution_count": 8
        }
      ]
    },
    {
      "cell_type": "code",
      "source": [
        "lista = [0,1,2,3,4,5,6,7,8,9,10,11,12,13,14,15,16,17,18]"
      ],
      "metadata": {
        "id": "vhMvbfIatDrn"
      },
      "execution_count": null,
      "outputs": []
    },
    {
      "cell_type": "code",
      "source": [
        "lista"
      ],
      "metadata": {
        "colab": {
          "base_uri": "https://localhost:8080/"
        },
        "id": "YRUG664CtPVV",
        "outputId": "f9250a12-2152-4b3f-b6d7-ea96f3b98a26"
      },
      "execution_count": null,
      "outputs": [
        {
          "output_type": "execute_result",
          "data": {
            "text/plain": [
              "[0, 1, 2, 3, 4, 5, 6, 7, 8, 9, 10, 11, 12, 13, 14, 15, 16, 17, 18]"
            ]
          },
          "metadata": {},
          "execution_count": 10
        }
      ]
    },
    {
      "cell_type": "code",
      "source": [
        "#A função filter() retorna um iterator\n",
        "filter(verificaPar, lista)"
      ],
      "metadata": {
        "colab": {
          "base_uri": "https://localhost:8080/"
        },
        "id": "V8rXIUR5tP1F",
        "outputId": "59a68303-6545-4fbf-a34f-d7263776b57f"
      },
      "execution_count": null,
      "outputs": [
        {
          "output_type": "execute_result",
          "data": {
            "text/plain": [
              "<filter at 0x78fb2291f130>"
            ]
          },
          "metadata": {},
          "execution_count": 11
        }
      ]
    },
    {
      "cell_type": "code",
      "source": [
        "# Com a função retorna par e uma lista com diversos numeros.. com a função built-in \"FILTER\"copnseguindo fazer com que\n",
        "# essa lista seja filtrada dentro da função verificaPar, sendo assim retornando apenas os valores True.. ou seja, valores par\n",
        "\n",
        "list(filter(verificaPar, lista))"
      ],
      "metadata": {
        "colab": {
          "base_uri": "https://localhost:8080/"
        },
        "id": "5yAhyt4wtU6g",
        "outputId": "d37e1e09-b132-45b9-f145-e61dc4f9d9d0"
      },
      "execution_count": null,
      "outputs": [
        {
          "output_type": "execute_result",
          "data": {
            "text/plain": [
              "[0, 2, 4, 6, 8, 10, 12, 14, 16, 18]"
            ]
          },
          "metadata": {},
          "execution_count": 13
        }
      ]
    },
    {
      "cell_type": "code",
      "source": [
        "# Criando uma função lambda para o mesmo procedimento acima\n",
        "\n",
        "list(filter(lambda x: x%2==0, lista))"
      ],
      "metadata": {
        "colab": {
          "base_uri": "https://localhost:8080/"
        },
        "id": "BHG3kCpEteBf",
        "outputId": "2e9906e5-1949-441e-a25c-bf81a7f65e11"
      },
      "execution_count": null,
      "outputs": [
        {
          "output_type": "execute_result",
          "data": {
            "text/plain": [
              "[0, 2, 4, 6, 8, 10, 12, 14, 16, 18]"
            ]
          },
          "metadata": {},
          "execution_count": 16
        }
      ]
    },
    {
      "cell_type": "code",
      "source": [
        "# Filtrando numeros apenas de acima de 8\n",
        "\n",
        "list(filter(lambda num: num > 8, lista))"
      ],
      "metadata": {
        "colab": {
          "base_uri": "https://localhost:8080/"
        },
        "id": "9hg-BGgXuMLR",
        "outputId": "2a1d59d1-76e6-4236-8d65-bef92f5960a3"
      },
      "execution_count": null,
      "outputs": [
        {
          "output_type": "execute_result",
          "data": {
            "text/plain": [
              "[9, 10, 11, 12, 13, 14, 15, 16, 17, 18]"
            ]
          },
          "metadata": {},
          "execution_count": 17
        }
      ]
    },
    {
      "cell_type": "code",
      "source": [],
      "metadata": {
        "id": "_tHUABImuQnh"
      },
      "execution_count": null,
      "outputs": []
    }
  ]
}