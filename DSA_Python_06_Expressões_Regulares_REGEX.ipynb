{
  "nbformat": 4,
  "nbformat_minor": 0,
  "metadata": {
    "colab": {
      "provenance": [],
      "authorship_tag": "ABX9TyMtWO2CJ2XEqnzOSYnG6Bgm",
      "include_colab_link": true
    },
    "kernelspec": {
      "name": "python3",
      "display_name": "Python 3"
    },
    "language_info": {
      "name": "python"
    }
  },
  "cells": [
    {
      "cell_type": "markdown",
      "metadata": {
        "id": "view-in-github",
        "colab_type": "text"
      },
      "source": [
        "<a href=\"https://colab.research.google.com/github/AlexSan1910/Curso_DSA_Python/blob/main/DSA_Python_06_Express%C3%B5es_Regulares_REGEX.ipynb\" target=\"_parent\"><img src=\"https://colab.research.google.com/assets/colab-badge.svg\" alt=\"Open In Colab\"/></a>"
      ]
    },
    {
      "cell_type": "markdown",
      "source": [
        "# **Expressões Regulares**\n",
        "\n",
        "Expressões regulares são padrões usados para combinar ou encontrar ocorrências de sequências de caracteres em uma string. Em Python, expressões regulares são geralmente usadas para manipular strings e realizar tarefas como validação de entradas de dados, extração de informações de strings e substituição de texto."
      ],
      "metadata": {
        "id": "GXmEBv5TJ8Xp"
      }
    },
    {
      "cell_type": "code",
      "execution_count": null,
      "metadata": {
        "id": "bn_XLS6EJWVI"
      },
      "outputs": [],
      "source": [
        "import re"
      ]
    },
    {
      "cell_type": "code",
      "source": [
        "texto = \"Meu e-mail é exemplo@gmail.com e você pode me contatar em outr_email@yahoo.com.\""
      ],
      "metadata": {
        "id": "OCYxyEBfKTBh"
      },
      "execution_count": null,
      "outputs": []
    },
    {
      "cell_type": "code",
      "source": [
        "# Expressão regular para contar quantas vezes o caracter arroba aparecer no texto\n",
        "\n",
        "# Poderiamos por exemplo utilizar essa função em um webscrapping que é feito em uma pagina na web,\n",
        "# filtrar todo o texto dessa pagina na web, colocar em um dataframe no pandas e assim criar um modelo\n",
        "# de machine learning que faz essa expressão regular em todo o texto para descobrir por exemplo um\n",
        "# caracter @ para saber qual o e-mail de um determinado site.\n",
        "resultado = len(re.findall(\"@\", texto))"
      ],
      "metadata": {
        "id": "czJvUUPdK6BK"
      },
      "execution_count": null,
      "outputs": []
    },
    {
      "cell_type": "code",
      "source": [
        "print(\"O caractere @ apareceu \", resultado, \"vezes no texto.\")"
      ],
      "metadata": {
        "colab": {
          "base_uri": "https://localhost:8080/"
        },
        "id": "Tsj43PFOLEjF",
        "outputId": "742e8a5a-2aa0-428d-993a-811b5d027cfc"
      },
      "execution_count": null,
      "outputs": [
        {
          "output_type": "stream",
          "name": "stdout",
          "text": [
            "O caractere @ apareceu  2 vezes no texto.\n"
          ]
        }
      ]
    },
    {
      "cell_type": "code",
      "source": [
        "# Expressão regular para extrair a palavra que aparece após a palavra você em um texto\n",
        "resultado = re.findall(r'você (\\w+)', texto)"
      ],
      "metadata": {
        "id": "igKNd4a3Lruf"
      },
      "execution_count": null,
      "outputs": []
    },
    {
      "cell_type": "markdown",
      "source": [
        "Nota: O r antes da string que representa a expressão regular em python é usado para indicar que a string é uma string literal raw. Isso significa que as barras invertidas() não são interpretadas como caracteres de escape, mas são incluidas na expressão refular como parte do padrão."
      ],
      "metadata": {
        "id": "Dh5UawjzPeIh"
      }
    },
    {
      "cell_type": "code",
      "source": [
        "# Colocamos como index o \"0\", porque se não a variavel resultado trará a lsita, por mais que tenha apenas\n",
        "# um unico item essa lista [\"pode\"], se colocarmos o 0 estamos basicamente pedindo para que o mesmo retorne\n",
        "# apenas o primeiro item da lista e mais nada..\n",
        "\n",
        "print(\"A palavra após 'você' é:\", resultado[0])"
      ],
      "metadata": {
        "colab": {
          "base_uri": "https://localhost:8080/"
        },
        "id": "I9SLv34nN77H",
        "outputId": "3563a265-4622-4172-9c9a-a48da723f3eb"
      },
      "execution_count": null,
      "outputs": [
        {
          "output_type": "stream",
          "name": "stdout",
          "text": [
            "A palavra após 'você' é: pode\n"
          ]
        }
      ]
    },
    {
      "cell_type": "code",
      "source": [
        "# Expressão regular para extrair endereços de e-mail de uma string\n",
        "\n",
        "# Busque na documentação o que é necessario colocar para poder buscar padrões de e-mail em textos longos e compridos\n",
        "\n",
        "emails = re.findall(r'\\b[A-Za-z0-9._%+=]+@[A-Za-z0-9]+\\.[A-Z|a-z]{2,}\\b', texto)"
      ],
      "metadata": {
        "id": "qACPRctHOE8H"
      },
      "execution_count": null,
      "outputs": []
    },
    {
      "cell_type": "code",
      "source": [
        "print(emails)"
      ],
      "metadata": {
        "colab": {
          "base_uri": "https://localhost:8080/"
        },
        "id": "4nzr--l3TgzI",
        "outputId": "3970ebdb-c571-4a8a-97c0-265c09b83fd3"
      },
      "execution_count": null,
      "outputs": [
        {
          "output_type": "stream",
          "name": "stdout",
          "text": [
            "['exemplo@gmail.com', 'outr_email@yahoo.com']\n"
          ]
        }
      ]
    },
    {
      "cell_type": "markdown",
      "source": [
        "https://docs.python.org/3.9/library/re.html"
      ],
      "metadata": {
        "id": "OEdYC4lATnMo"
      }
    },
    {
      "cell_type": "code",
      "source": [
        "text = \"O aluno estava incrivelmente perdido, mas encontrou a DSA e rapidamente começou a aprender.\""
      ],
      "metadata": {
        "id": "nMxBz4wMTjKf"
      },
      "execution_count": null,
      "outputs": []
    },
    {
      "cell_type": "code",
      "source": [
        "# Extraindo os adverbios da frase.\n",
        "for m in re.finditer(r\"\\w+mente\\b\", text):\n",
        "  print(\"%02d-%02d: %s\" % (m.start(), m.end(), m.group(0)))"
      ],
      "metadata": {
        "colab": {
          "base_uri": "https://localhost:8080/"
        },
        "id": "4UK9JQCzUVCE",
        "outputId": "d62b2d36-8b36-4188-f2de-f0ea3f8588cf"
      },
      "execution_count": null,
      "outputs": [
        {
          "output_type": "stream",
          "name": "stdout",
          "text": [
            "15-28: incrivelmente\n",
            "60-71: rapidamente\n"
          ]
        }
      ]
    },
    {
      "cell_type": "code",
      "source": [],
      "metadata": {
        "id": "5gZMT_21Uh8v"
      },
      "execution_count": null,
      "outputs": []
    },
    {
      "cell_type": "markdown",
      "source": [
        "# **REGEX com ChatGPT**\n",
        "\n",
        "Música: Tempo Perdido - Legião Urbana\n"
      ],
      "metadata": {
        "id": "e3wcgKe9VO35"
      }
    },
    {
      "cell_type": "code",
      "source": [
        "# Variavel do tipo string\n",
        "\n",
        "musica = \"\"\"\n",
        "Todos os dias quando acordo\n",
        "Não tenho mais\n",
        "O tempo que passou\n",
        "Mas tenho muito tempo\n",
        "Temos todo o tempo do mundo\n",
        "Todos os dias\n",
        "Antes de dormir\n",
        "Lembro e esqueço\n",
        "Como foi o dia\n",
        "Sempre em frente\n",
        "Não temos tempo a perder\n",
        "Nosso suor sagrado\n",
        "É bem mais belo\n",
        "Que esse sangue amargo\n",
        "E tão sério\n",
        "E selvagem! Selvagem!\n",
        "Selvagem!\n",
        "Veja o sol\n",
        "Dessa manhã tão cinza\n",
        "A tempestade que chega\n",
        "É da cor dos teus olhos\n",
        "Castanhos\n",
        "Então me abraça forte\n",
        "E diz mais uma vez\n",
        "Que já estamos\n",
        "Distantes de tudo\n",
        "Temos nosso próprio tempo\n",
        "Temos nosso próprio tempo\n",
        "Temos nosso próprio tempo\n",
        "Não tenho medo do escuro\n",
        "Mas deixe as luzes\n",
        "Acesas agora\n",
        "O que foi escondido\n",
        "É o que se escondeu\n",
        "E o que foi prometido\n",
        "Ninguém prometeu\n",
        "Nem foi tempo perdido\n",
        "Somos tão jovens\n",
        "Tão jovens! Tão jovens!\"\"\""
      ],
      "metadata": {
        "id": "7T4AnOhXVSCC"
      },
      "execution_count": null,
      "outputs": []
    },
    {
      "cell_type": "code",
      "source": [
        "# 1 - Crie um REGEX para contar quantas vezes o caracter \"a\" aparece em todo o texto da música.\n",
        "\n",
        "# Contagem de ocorrências do caractere 'a'\n",
        "contagem_a = len(re.findall('a', musica))\n",
        "\n",
        "print(\"Número de vezes que 'a' aparece:\", contagem_a)"
      ],
      "metadata": {
        "colab": {
          "base_uri": "https://localhost:8080/"
        },
        "id": "Zvy14VKSWxOA",
        "outputId": "0c9405fe-5c05-4a46-e05c-73debc1fe4d3"
      },
      "execution_count": null,
      "outputs": [
        {
          "output_type": "stream",
          "name": "stdout",
          "text": [
            "Número de vezes que 'a' aparece: 39\n"
          ]
        }
      ]
    },
    {
      "cell_type": "code",
      "source": [
        "# 2 - Crie um REGEX em python para contar quantas vezes a palavra tempo aparece na música,\n",
        "contagem_tempo = len(re.findall(r'\\btempo\\b', musica, re.IGNORECASE))\n",
        "\n",
        "print(\"Número de vezes que 'tempo' aparece:\", contagem_tempo)"
      ],
      "metadata": {
        "colab": {
          "base_uri": "https://localhost:8080/"
        },
        "id": "eKzeyveSWxQn",
        "outputId": "500bbff0-41dc-48ed-b1a4-b5cda7239f2f"
      },
      "execution_count": null,
      "outputs": [
        {
          "output_type": "stream",
          "name": "stdout",
          "text": [
            "Número de vezes que 'tempo' aparece: 8\n"
          ]
        }
      ]
    },
    {
      "cell_type": "code",
      "source": [
        "# 3 - Crei um REGEX em python para extrair as palavras seguidas por exclamação.\n",
        "palavras_exclamacao = re.findall(r'\\b\\w+!', musica)\n",
        "\n",
        "print(\"Palavras seguidas por exclamação:\", palavras_exclamacao)"
      ],
      "metadata": {
        "colab": {
          "base_uri": "https://localhost:8080/"
        },
        "id": "KLYpwlBqWxXH",
        "outputId": "36d77f67-86d7-4765-e91c-e17f541dff25"
      },
      "execution_count": null,
      "outputs": [
        {
          "output_type": "stream",
          "name": "stdout",
          "text": [
            "Palavras seguidas por exclamação: ['selvagem!', 'Selvagem!', 'Selvagem!', 'jovens!', 'jovens!']\n"
          ]
        }
      ]
    },
    {
      "cell_type": "code",
      "source": [
        "# 4 - Crie um REGEX que extrai qualquer palavra cujo antecessor seja a palavra \"esse\"\n",
        "# e  o sucessor seja a palavra \"amargo\" em um texto.\n",
        "\n",
        "palavras_proximas = re.findall(r'\\besse\\s+(\\w+)\\s+amargo\\b', musica, re.IGNORECASE)\n",
        "\n",
        "print(\"Palavras precedidas por 'esse' e sucedidas por 'amargo':\", palavras_proximas)"
      ],
      "metadata": {
        "colab": {
          "base_uri": "https://localhost:8080/"
        },
        "id": "3ahlwyAEWxZl",
        "outputId": "538f88f7-ac01-4eb7-bc21-1ed7e9217dc2"
      },
      "execution_count": null,
      "outputs": [
        {
          "output_type": "stream",
          "name": "stdout",
          "text": [
            "Palavras precedidas por 'esse' e sucedidas por 'amargo': ['sangue']\n"
          ]
        }
      ]
    },
    {
      "cell_type": "code",
      "source": [
        "# 5 - Crie um Regex que retorne as palavras com acento, mas somente os caracteres na palavra que são anteriores ao caracter com acento.\n",
        "resultado_regex = re.findall(r\"\\b[\\wÀ-ÿ]+[áéíóúãõç]\", musica)\n",
        "print(\"As palavras acentuadas são:\", resultado_regex)"
      ],
      "metadata": {
        "colab": {
          "base_uri": "https://localhost:8080/"
        },
        "id": "dw30joL_Wxin",
        "outputId": "9935379d-ffe9-4a85-ca7f-e5d31ece3c52"
      },
      "execution_count": null,
      "outputs": [
        {
          "output_type": "stream",
          "name": "stdout",
          "text": [
            "As palavras acentuadas são: ['Nã', 'esqueç', 'Nã', 'tã', 'sé', 'manhã', 'tã', 'Entã', 'abraç', 'já', 'pró', 'pró', 'pró', 'Nã', 'Ningué', 'tã', 'Tã', 'Tã']\n"
          ]
        }
      ]
    },
    {
      "cell_type": "code",
      "source": [],
      "metadata": {
        "id": "Qx6a17FtdU0N"
      },
      "execution_count": null,
      "outputs": []
    }
  ]
}