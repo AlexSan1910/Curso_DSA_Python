{
  "nbformat": 4,
  "nbformat_minor": 0,
  "metadata": {
    "colab": {
      "provenance": [],
      "authorship_tag": "ABX9TyObnHItfBAMid/SPxJchmkL",
      "include_colab_link": true
    },
    "kernelspec": {
      "name": "python3",
      "display_name": "Python 3"
    },
    "language_info": {
      "name": "python"
    }
  },
  "cells": [
    {
      "cell_type": "markdown",
      "metadata": {
        "id": "view-in-github",
        "colab_type": "text"
      },
      "source": [
        "<a href=\"https://colab.research.google.com/github/AlexSan1910/Curso_DSA_Python/blob/main/DSA_Python_08_Metodos.ipynb\" target=\"_parent\"><img src=\"https://colab.research.google.com/assets/colab-badge.svg\" alt=\"Open In Colab\"/></a>"
      ]
    },
    {
      "cell_type": "markdown",
      "source": [
        "# ** Trabalhando com Métodos de Classes em Python**\n",
        "\n",
        "Em Python, os métodos de classes são funções definidas dentro de uma classe, que realizam operações específicas em objetos criados a partir dessa classe. Os métodos de classes são usados para implementar o comportamento dos objetos que pertencem a essa classe.\n",
        "\n",
        "Assim como as funções em Python, os métodos de classes podem receber argumentos e retornar valores. No entanto, diferentemente das funções normais, os métodos de classes sempre incluem o parâmetro self como o primeiro argumento, que é usado para se referir ao objeto atual da classe.\n",
        "\n",
        "O método __init__ é um método especial que é chamado quando um objeto é criado a partir da classe. Este método é usado para inicializar os atributos do objeto. Outros métodos podem ser definidos para executar tarefas específicas em um objeto, como calcular valores, realizar operações de entrada e saída, ou alterar o estado do objeto."
      ],
      "metadata": {
        "id": "ROkgWX96qec8"
      }
    },
    {
      "cell_type": "code",
      "execution_count": null,
      "metadata": {
        "id": "JbV-q0Kon1ah"
      },
      "outputs": [],
      "source": [
        "# Criando uyma classe chamada Circulo\n",
        "class Circulo():\n",
        "\n",
        "  # O valor de PI é contante\n",
        "  pi = 3.14\n",
        "\n",
        "  # Quando um objeto desta classe for cirado, este método será executado e o valor default do raio será 5.\n",
        "  def __init__(self, raio = 5):\n",
        "    self.raio = raio\n",
        "\n",
        "  # Esse método calcula a área.\n",
        "  def area(self):\n",
        "    return (self.raio * self.raio) * Circulo.pi\n",
        "\n",
        "  # Método para gerar um novo raio\n",
        "  def setRaio(self, novo_raio):\n",
        "    self.raio = novo_raio\n",
        "\n",
        "  # Método para obter o raio do circulo\n",
        "  def getRaio(self):\n",
        "    return self.raio"
      ]
    },
    {
      "cell_type": "code",
      "source": [
        "# Criando um objeto circ, uma instancia da classe Circulo()\n",
        "circ = Circulo()\n"
      ],
      "metadata": {
        "id": "UBU-LGekql8A"
      },
      "execution_count": null,
      "outputs": []
    },
    {
      "cell_type": "code",
      "source": [
        "# Executando um método da classe Circulo - Trazendo o valor do atributo que está dentro da classe com o metodo get, que é sempre usado para essa finalidade\n",
        "circ.getRaio()"
      ],
      "metadata": {
        "colab": {
          "base_uri": "https://localhost:8080/"
        },
        "id": "F3T85fq8vXo6",
        "outputId": "76467adb-9afb-422f-c670-9172ab77e734"
      },
      "execution_count": null,
      "outputs": [
        {
          "output_type": "execute_result",
          "data": {
            "text/plain": [
              "5"
            ]
          },
          "metadata": {},
          "execution_count": 5
        }
      ]
    },
    {
      "cell_type": "code",
      "source": [
        "# Criando outro objeto chamado circ1. Uma instancia da classe Circulo()\n",
        "# Agora sobrescrevendo o valor do atributo\n",
        "circ1 = Circulo(7)"
      ],
      "metadata": {
        "id": "EWF5zWZAvZ2t"
      },
      "execution_count": null,
      "outputs": []
    },
    {
      "cell_type": "code",
      "source": [
        "# Executando um método da classe Circulo - Trazendo o valor do atributo que está dentro da classe com o metodo get, que é sempre usado para essa finalidade\n",
        "circ1.getRaio()"
      ],
      "metadata": {
        "colab": {
          "base_uri": "https://localhost:8080/"
        },
        "id": "qcXJCPQewFAk",
        "outputId": "854b0732-8a47-4eef-9406-ba2fc6f417dd"
      },
      "execution_count": null,
      "outputs": [
        {
          "output_type": "execute_result",
          "data": {
            "text/plain": [
              "7"
            ]
          },
          "metadata": {},
          "execution_count": 7
        }
      ]
    },
    {
      "cell_type": "code",
      "source": [
        "# Imprimindo o Raio\n",
        "print(\"O raio é: \", circ.getRaio())"
      ],
      "metadata": {
        "colab": {
          "base_uri": "https://localhost:8080/"
        },
        "id": "c_TyOnyOwLD1",
        "outputId": "be046150-3609-4a2a-e6c1-e7aa417408d3"
      },
      "execution_count": null,
      "outputs": [
        {
          "output_type": "stream",
          "name": "stdout",
          "text": [
            "O raio é:  5\n"
          ]
        }
      ]
    },
    {
      "cell_type": "code",
      "source": [
        "# Imprimindo a Are\n",
        "print(\"área igual a: \", circ.area())"
      ],
      "metadata": {
        "colab": {
          "base_uri": "https://localhost:8080/"
        },
        "id": "rCZLg4hdwg1j",
        "outputId": "96ac6102-1ae0-4fd4-be0f-598d57ce6864"
      },
      "execution_count": null,
      "outputs": [
        {
          "output_type": "stream",
          "name": "stdout",
          "text": [
            "área igual a:  78.5\n"
          ]
        }
      ]
    },
    {
      "cell_type": "code",
      "source": [
        "# Usando um novo valor para o raio do círculo - Estou utilizando o metodo Set, pois esse metodo é sempre utilizado para essa finalidade de definir um novo valor ao raio\n",
        "circ.setRaio(3)"
      ],
      "metadata": {
        "id": "jWHvHLRLwpvR"
      },
      "execution_count": null,
      "outputs": []
    },
    {
      "cell_type": "code",
      "source": [
        "# Imprimindo o ovo raio\n",
        "print(\"Novo raio igual a: \", circ.getRaio())"
      ],
      "metadata": {
        "colab": {
          "base_uri": "https://localhost:8080/"
        },
        "id": "ySDdTyOgwwX7",
        "outputId": "d24e796a-20f0-4083-d8b6-b8b23a7ecfb7"
      },
      "execution_count": null,
      "outputs": [
        {
          "output_type": "stream",
          "name": "stdout",
          "text": [
            "Novo raio igual a:  3\n"
          ]
        }
      ]
    },
    {
      "cell_type": "code",
      "source": [],
      "metadata": {
        "id": "JhumBFvRw2JW"
      },
      "execution_count": null,
      "outputs": []
    }
  ]
}