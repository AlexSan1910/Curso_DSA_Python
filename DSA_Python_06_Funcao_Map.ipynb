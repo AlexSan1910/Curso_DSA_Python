{
  "nbformat": 4,
  "nbformat_minor": 0,
  "metadata": {
    "colab": {
      "provenance": [],
      "authorship_tag": "ABX9TyO030Yb6usg+S6AEhEnPZtO",
      "include_colab_link": true
    },
    "kernelspec": {
      "name": "python3",
      "display_name": "Python 3"
    },
    "language_info": {
      "name": "python"
    }
  },
  "cells": [
    {
      "cell_type": "markdown",
      "metadata": {
        "id": "view-in-github",
        "colab_type": "text"
      },
      "source": [
        "<a href=\"https://colab.research.google.com/github/AlexSan1910/Curso_DSA_Python/blob/main/DSA_Python_06_Funcao_Map.ipynb\" target=\"_parent\"><img src=\"https://colab.research.google.com/assets/colab-badge.svg\" alt=\"Open In Colab\"/></a>"
      ]
    },
    {
      "cell_type": "markdown",
      "source": [
        "# **Função Map**\n",
        "\n",
        "A função map() em python é uma função que aplica uma determinada função a cada elemento de uma estrutura de dados iteravel (assim como uma lista, tupla ou outro objeto iteravel). A função map() retorna um objeto que pode ser convertido em outra estrutura de dados, como uma lista, se necessario."
      ],
      "metadata": {
        "id": "PytDvwpU1ngg"
      }
    },
    {
      "cell_type": "code",
      "source": [
        "# Função python que retorna um numero ao quadrado\n",
        "\n",
        "def potencia(x):\n",
        "  return x ** 2"
      ],
      "metadata": {
        "id": "FHzaPNvY2AOJ"
      },
      "execution_count": null,
      "outputs": []
    },
    {
      "cell_type": "code",
      "source": [
        "potencia(2)"
      ],
      "metadata": {
        "colab": {
          "base_uri": "https://localhost:8080/"
        },
        "id": "IAFScQfk2Jfr",
        "outputId": "4d33a98a-0851-4815-ce99-b4c417ccfcfa"
      },
      "execution_count": null,
      "outputs": [
        {
          "output_type": "execute_result",
          "data": {
            "text/plain": [
              "4"
            ]
          },
          "metadata": {},
          "execution_count": 2
        }
      ]
    },
    {
      "cell_type": "code",
      "source": [
        "numeros = [1,2,3,4,5]"
      ],
      "metadata": {
        "id": "4RF9gEVI2NN1"
      },
      "execution_count": null,
      "outputs": []
    },
    {
      "cell_type": "code",
      "source": [
        "# Basicamente a função map aqui nesse codigo, percorreu todos os numeros da lista\n",
        "# e trouxe a potencia de cada um desses itens.. sendo assim o map, nada mais é\n",
        "# um script que percorre uma lista, ou tupla ou objeto iteravel e aplica uma função\n",
        "# a todos os itens desse objeto iteravel\n",
        "\n",
        "mumeros_ao_quadrado = list(map(potencia, numeros))"
      ],
      "metadata": {
        "id": "FHOPQes82SBT"
      },
      "execution_count": null,
      "outputs": []
    },
    {
      "cell_type": "code",
      "source": [
        "print(mumeros_ao_quadrado)"
      ],
      "metadata": {
        "colab": {
          "base_uri": "https://localhost:8080/"
        },
        "id": "fbGZlby72Wl7",
        "outputId": "26c85b22-ab74-433f-c464-a6cb3156dcfa"
      },
      "execution_count": null,
      "outputs": [
        {
          "output_type": "stream",
          "name": "stdout",
          "text": [
            "[1, 4, 9, 16, 25]\n"
          ]
        }
      ]
    },
    {
      "cell_type": "code",
      "source": [
        "# Criando duas funções\n",
        "\n",
        "# Função 1 - Recebe uma temperatura como parametro e retorna a temperatura em Fahrenheit\n",
        "def fahrenheit(T):\n",
        "  return ((float(9)/5) * T + 32)\n",
        "\n",
        "# Função 2 - Recebe uma temperatura como parametro e retorna a temperatura em celsius\n",
        "def celsius(T):\n",
        "  return(float(5)/9)*(T-32)"
      ],
      "metadata": {
        "id": "zCdP-Xa72bgF"
      },
      "execution_count": null,
      "outputs": []
    },
    {
      "cell_type": "code",
      "source": [
        "# Criando uma lista de temperaturas\n",
        "\n",
        "temperaturas = [0, 22.5, 40 , 100]"
      ],
      "metadata": {
        "id": "2iO1gyQz31tS"
      },
      "execution_count": null,
      "outputs": []
    },
    {
      "cell_type": "code",
      "source": [
        "# Aplicando a função a cadaelemento da lista de temperaturas.\n",
        "\n",
        "list(map(fahrenheit, temperaturas))"
      ],
      "metadata": {
        "colab": {
          "base_uri": "https://localhost:8080/"
        },
        "id": "jW_eWkML4Bsl",
        "outputId": "771bb638-3a94-431c-f489-dab86e90e47a"
      },
      "execution_count": null,
      "outputs": [
        {
          "output_type": "execute_result",
          "data": {
            "text/plain": [
              "[32.0, 72.5, 104.0, 212.0]"
            ]
          },
          "metadata": {},
          "execution_count": 20
        }
      ]
    },
    {
      "cell_type": "code",
      "source": [
        "# Usando um loop for para imprimir o resultado da função map()\n",
        "for temp in map(fahrenheit, temperaturas):\n",
        "  print(temp)"
      ],
      "metadata": {
        "colab": {
          "base_uri": "https://localhost:8080/"
        },
        "id": "dMyrVvv64NkG",
        "outputId": "c3ae50ae-ad0a-4d6d-d7da-6237ca62069b"
      },
      "execution_count": null,
      "outputs": [
        {
          "output_type": "stream",
          "name": "stdout",
          "text": [
            "32.0\n",
            "72.5\n",
            "104.0\n",
            "212.0\n"
          ]
        }
      ]
    },
    {
      "cell_type": "code",
      "source": [
        "# Convertendo para celsius\n",
        "list(map(celsius, temperaturas))"
      ],
      "metadata": {
        "colab": {
          "base_uri": "https://localhost:8080/"
        },
        "id": "TvGH6Izv4nk3",
        "outputId": "57481f7f-b9e5-4b07-b1dc-8a892ffb17e7"
      },
      "execution_count": null,
      "outputs": [
        {
          "output_type": "execute_result",
          "data": {
            "text/plain": [
              "[-17.77777777777778, -5.277777777777778, 4.444444444444445, 37.77777777777778]"
            ]
          },
          "metadata": {},
          "execution_count": 23
        }
      ]
    },
    {
      "cell_type": "code",
      "source": [
        "# Usando expressão lambda\n",
        "\n",
        "list(map(lambda x: (5.0/9)*(x - 32), temperaturas))"
      ],
      "metadata": {
        "colab": {
          "base_uri": "https://localhost:8080/"
        },
        "id": "z9WK-4Ns4sV_",
        "outputId": "7e9b24e2-d1ca-4e00-81b8-eac1b19d59fa"
      },
      "execution_count": null,
      "outputs": [
        {
          "output_type": "execute_result",
          "data": {
            "text/plain": [
              "[-17.77777777777778, -5.277777777777778, 4.444444444444445, 37.77777777777778]"
            ]
          },
          "metadata": {},
          "execution_count": 24
        }
      ]
    },
    {
      "cell_type": "code",
      "source": [
        "#Somando os elementos de 2 listas\n",
        "a = [1,2,3,4]\n",
        "b = [5,6,7,8]"
      ],
      "metadata": {
        "id": "BGg23Eb55c7U"
      },
      "execution_count": null,
      "outputs": []
    },
    {
      "cell_type": "code",
      "source": [
        "list(map(lambda x,y: x + y, a, b))"
      ],
      "metadata": {
        "colab": {
          "base_uri": "https://localhost:8080/"
        },
        "id": "PyD6pD2J5ldl",
        "outputId": "17a9c9cc-3989-414c-e106-eec2c8785175"
      },
      "execution_count": null,
      "outputs": [
        {
          "output_type": "execute_result",
          "data": {
            "text/plain": [
              "[6, 8, 10, 12]"
            ]
          },
          "metadata": {},
          "execution_count": 27
        }
      ]
    },
    {
      "cell_type": "code",
      "source": [
        "# Somando os elementos de 3 listas\n",
        "a = [1,2,3,4]\n",
        "b = [5,6,7,8]\n",
        "c = [9,10,11,12]"
      ],
      "metadata": {
        "id": "W7EKH1875tFi"
      },
      "execution_count": null,
      "outputs": []
    },
    {
      "cell_type": "code",
      "source": [
        "list(map(lambda x, y, z: x + y + z, a, b, c))"
      ],
      "metadata": {
        "colab": {
          "base_uri": "https://localhost:8080/"
        },
        "id": "LrAGDQl0555N",
        "outputId": "f347e6ee-b4d6-4314-86e9-0160c99ad522"
      },
      "execution_count": null,
      "outputs": [
        {
          "output_type": "execute_result",
          "data": {
            "text/plain": [
              "[15, 18, 21, 24]"
            ]
          },
          "metadata": {},
          "execution_count": 30
        }
      ]
    },
    {
      "cell_type": "code",
      "source": [],
      "metadata": {
        "id": "GXweVSJc6c-C"
      },
      "execution_count": null,
      "outputs": []
    }
  ]
}